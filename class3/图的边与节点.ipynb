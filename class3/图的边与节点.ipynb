{
 "cells": [
  {
   "cell_type": "code",
   "execution_count": 2,
   "metadata": {},
   "outputs": [],
   "source": [
    "import tensorflow as tf\n",
    "img=tf.constant(1,shape=[10,28,28,3])\n",
    "#1：利用索引取出第二张图片\n",
    "p1=img[1:2,:,:,:]\n",
    "\n",
    "#2:利用切片取出第二张图片\n",
    "p2=tf.slice(img,[1,0,0,0],[1,28,28,3])\n",
    "#3:使用切片和使用索引有什么不同\n",
    "#答：索引是图片的副本，索引不会修改原图，切片会。且切片需要知道图片的起始位置和所截取长度\n",
    "#4：取出 第 1，3，5，7张图片\n",
    "arrar=img[0:7:2,:,:,:]\n"
   ]
  },
  {
   "cell_type": "code",
   "execution_count": 3,
   "metadata": {},
   "outputs": [],
   "source": [
    "#5:如何取出第6-8张（包括6不包括8）图片中中心区域（14*14）的部分？\n"
   ]
  },
  {
   "cell_type": "code",
   "execution_count": 4,
   "metadata": {},
   "outputs": [],
   "source": [
    "#6:将图片根据通道拆分成三份单通道图片\n",
    "p3,p4,p5=tf.split(img,[1,1,1],3)"
   ]
  },
  {
   "cell_type": "code",
   "execution_count": null,
   "metadata": {},
   "outputs": [],
   "source": [
    "#7:写出`tf.shape(img)`返回的张量的阶数以及`shape`属性的值。\n",
    "print(tf.shape(img))\n",
    "with tf.session() as sess:\n",
    "    print(sess.run(tf.rank(tf.shape(img))))\n",
    " "
   ]
  }
 ],
 "metadata": {
  "kernelspec": {
   "display_name": "Python 3",
   "language": "python",
   "name": "python3"
  },
  "language_info": {
   "codemirror_mode": {
    "name": "ipython",
    "version": 3
   },
   "file_extension": ".py",
   "mimetype": "text/x-python",
   "name": "python",
   "nbconvert_exporter": "python",
   "pygments_lexer": "ipython3",
   "version": "3.6.5"
  }
 },
 "nbformat": 4,
 "nbformat_minor": 2
}
