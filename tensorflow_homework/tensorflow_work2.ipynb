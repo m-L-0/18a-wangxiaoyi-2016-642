{
 "cells": [
  {
   "cell_type": "code",
   "execution_count": 3,
   "metadata": {},
   "outputs": [
    {
     "name": "stdout",
     "output_type": "stream",
     "text": [
      "5.0\n",
      "5.0\n",
      "6.0\n",
      "-1.0\n",
      "0.6666667\n",
      "2.0\n",
      "8.0\n",
      "4.0\n",
      "1.4142135\n"
     ]
    }
   ],
   "source": [
    "import tensorflow as tf\n",
    "g1=tf.get_default_graph()\n",
    "with g1.as_default():\n",
    "    x=2.\n",
    "    y=3.\n",
    "    add_op=tf.add(x,y)\n",
    "    mul_op=tf.multiply(x,y)\n",
    "    subt_op=tf.subtract(x,y)\n",
    "    div_op=tf.div(x,y)\n",
    "    mod_op=tf.mod(x,y)\n",
    "    pow_op=tf.pow(x,y)\n",
    "    squ_op=tf.square(x)\n",
    "    sqr_op=tf.sqrt(x)\n",
    "with tf.Session() as sess:\n",
    "    print(sess.run(add_op))\n",
    "with tf.Session(graph=g1) as sess:\n",
    "    print(sess.run(add_op))\n",
    "    print(sess.run(mul_op))\n",
    "    print(sess.run(subt_op))\n",
    "    print(sess.run(div_op))\n",
    "    print(sess.run(mod_op))\n",
    "    print(sess.run(pow_op))\n",
    "    print(sess.run(squ_op))\n",
    "    print(sess.run(sqr_op))\n",
    "\n",
    "\n"
   ]
  },
  {
   "cell_type": "code",
   "execution_count": null,
   "metadata": {},
   "outputs": [],
   "source": []
  }
 ],
 "metadata": {
  "kernelspec": {
   "display_name": "Python 3",
   "language": "python",
   "name": "python3"
  },
  "language_info": {
   "codemirror_mode": {
    "name": "ipython",
    "version": 3
   },
   "file_extension": ".py",
   "mimetype": "text/x-python",
   "name": "python",
   "nbconvert_exporter": "python",
   "pygments_lexer": "ipython3",
   "version": "3.6.5"
  }
 },
 "nbformat": 4,
 "nbformat_minor": 2
}
